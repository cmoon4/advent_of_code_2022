{
 "cells": [
  {
   "cell_type": "code",
   "execution_count": 2,
   "id": "91defdba",
   "metadata": {},
   "outputs": [],
   "source": [
    "import os\n",
    "import numpy as np"
   ]
  },
  {
   "cell_type": "markdown",
   "id": "c43d9dc8",
   "metadata": {},
   "source": [
    "Part A"
   ]
  },
  {
   "cell_type": "code",
   "execution_count": 62,
   "id": "8dfa12fa",
   "metadata": {},
   "outputs": [
    {
     "name": "stdout",
     "output_type": "stream",
     "text": [
      "13438\n"
     ]
    }
   ],
   "source": [
    "text = np.loadtxt('input.txt', dtype = str)\n",
    "\n",
    "opponent = np.array(['A','B','C'])\n",
    "mine = np.array(['X', 'Y', 'Z'])\n",
    "win_or_lose = np.array([0, 3, 6])\n",
    "\n",
    "def points_calc(a, b):\n",
    "    point = np.argwhere(b == mine) + 1\n",
    "    arg_diff = int(np.argwhere(b == mine) - np.argwhere(a == opponent))\n",
    "    point += win_or_lose[arg_diff]\n",
    "    return point\n",
    "points = map(points_calc, text[:,0],text[:,1])\n",
    "\n",
    "points_sum = np.sum(list(points))\n",
    "print(points_sum)"
   ]
  },
  {
   "cell_type": "markdown",
   "id": "f0d1cdd8",
   "metadata": {},
   "source": [
    "Part B"
   ]
  },
  {
   "cell_type": "code",
   "execution_count": 89,
   "id": "4147d4a6",
   "metadata": {},
   "outputs": [
    {
     "name": "stdout",
     "output_type": "stream",
     "text": [
      "14060\n"
     ]
    }
   ],
   "source": [
    "def to_win_or_lose(a,b):\n",
    "    point = win_or_lose[np.nonzero(b == mine)]\n",
    "    point += hand_point[np.squeeze(np.nonzero(a == opponent)),np.squeeze(np.nonzero(b == mine))]\n",
    "    return point\n",
    "\n",
    "points = map(to_win_or_lose, text[:,0],text[:,1])\n",
    "\n",
    "points_sum = np.sum(list(points))\n",
    "print(points_sum)"
   ]
  }
 ],
 "metadata": {
  "kernelspec": {
   "display_name": "Python 3 (ipykernel)",
   "language": "python",
   "name": "python3"
  },
  "language_info": {
   "codemirror_mode": {
    "name": "ipython",
    "version": 3
   },
   "file_extension": ".py",
   "mimetype": "text/x-python",
   "name": "python",
   "nbconvert_exporter": "python",
   "pygments_lexer": "ipython3",
   "version": "3.9.7"
  }
 },
 "nbformat": 4,
 "nbformat_minor": 5
}
