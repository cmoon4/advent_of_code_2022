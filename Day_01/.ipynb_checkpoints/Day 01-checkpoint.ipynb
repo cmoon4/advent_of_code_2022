{
 "cells": [
  {
   "cell_type": "code",
   "execution_count": 2,
   "id": "ca59ef5e",
   "metadata": {},
   "outputs": [],
   "source": [
    "import numpy as np\n",
    "import os\n",
    "from pathlib import Path"
   ]
  },
  {
   "cell_type": "code",
   "execution_count": 40,
   "id": "6acd2ec5",
   "metadata": {},
   "outputs": [
    {
     "name": "stdout",
     "output_type": "stream",
     "text": [
      "['6110\\n' '2550\\n' '6915\\n' ... '6420\\n' '3329\\n' '5404\\n']\n"
     ]
    }
   ],
   "source": [
    "input_file = Path.cwd().joinpath('input.txt')\n",
    "\n",
    "with open(input_file, 'r') as input:\n",
    "    text = input.readlines()\n",
    "    \n",
    "text = np.array(text)\n",
    "print(text)"
   ]
  },
  {
   "cell_type": "code",
   "execution_count": 75,
   "id": "fb381737",
   "metadata": {},
   "outputs": [],
   "source": [
    "n_indices = np.argwhere(text == '\\n')\n",
    "\n",
    "cal_sums = np.zeros((len(n_indices),))\n",
    "\n",
    "index = 0\n",
    "array = text[0:np.squeeze(n_indices[index])]\n",
    "cal_sum = 0\n",
    "for element in array:\n",
    "    cal = int(element[0:-1])\n",
    "    cal_sum += cal\n",
    "\n",
    "cal_sums[0] = cal_sum\n",
    "\n",
    "for index in range(1,len(n_indices)):\n",
    "    array = text[np.squeeze(n_indices[index-1]+1):np.squeeze(n_indices[index])]\n",
    "    cal_sum = 0\n",
    "    for element in array:\n",
    "        cal = int(element[0:-1])\n",
    "        cal_sum += cal\n",
    "    cal_sums[index] = cal_sum\n"
   ]
  },
  {
   "cell_type": "code",
   "execution_count": 77,
   "id": "f08e96a5",
   "metadata": {},
   "outputs": [
    {
     "name": "stdout",
     "output_type": "stream",
     "text": [
      "69501.0\n"
     ]
    }
   ],
   "source": [
    "cal_max = np.max(cal_sums)\n",
    "print(cal_max)"
   ]
  },
  {
   "cell_type": "markdown",
   "id": "0cda0cfb",
   "metadata": {},
   "source": [
    "Part B: find the sum of the top three calorie carriers"
   ]
  },
  {
   "cell_type": "code",
   "execution_count": 84,
   "id": "c268878b",
   "metadata": {},
   "outputs": [
    {
     "name": "stdout",
     "output_type": "stream",
     "text": [
      "202346.0\n"
     ]
    }
   ],
   "source": [
    "cal_sorted = np.sort(cal_sums)[::-1]\n",
    "top_three = np.sum(cal_sorted[0:3])\n",
    "print(top_three)"
   ]
  }
 ],
 "metadata": {
  "kernelspec": {
   "display_name": "Python 3 (ipykernel)",
   "language": "python",
   "name": "python3"
  },
  "language_info": {
   "codemirror_mode": {
    "name": "ipython",
    "version": 3
   },
   "file_extension": ".py",
   "mimetype": "text/x-python",
   "name": "python",
   "nbconvert_exporter": "python",
   "pygments_lexer": "ipython3",
   "version": "3.9.7"
  }
 },
 "nbformat": 4,
 "nbformat_minor": 5
}
